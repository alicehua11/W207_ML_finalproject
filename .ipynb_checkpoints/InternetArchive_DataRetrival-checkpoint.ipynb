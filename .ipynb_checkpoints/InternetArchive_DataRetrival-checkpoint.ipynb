{
 "cells": [
  {
   "cell_type": "code",
   "execution_count": 6,
   "metadata": {},
   "outputs": [],
   "source": [
    "import pandas as pd\n",
    "import numpy as np\n",
    "import matplotlib.pyplot as plt\n",
    "import datetime\n",
    "from bs4 import BeautifulSoup, SoupStrainer\n",
    "import codecs\n",
    "import regex as re\n",
    "import requests\n",
    "from time import sleep\n",
    "import time\n",
    "import json\n",
    "\n",
    "from selenium import webdriver\n",
    "from selenium.webdriver.common.keys import Keys\n",
    "from selenium.webdriver.chrome.options import Options\n",
    "from selenium.webdriver.support.ui import WebDriverWait\n",
    "from selenium.webdriver.common.by import By\n",
    "from selenium.webdriver.support import expected_conditions as EC\n",
    "from selenium.webdriver.common import action_chains"
   ]
  },
  {
   "cell_type": "code",
   "execution_count": 270,
   "metadata": {},
   "outputs": [],
   "source": [
    "# Past urls to Forbes gotten from snapshots of Wayback Machine\n",
    "urls_2020 = [\"https://web.archive.org/web/20200229010432/https://www.forbes.com\",\n",
    "             \"https://web.archive.org/web/20200331062207/https://www.forbes.com\",\n",
    "             \"https://web.archive.org/web/20200430000533/https://www.forbes.com\",\n",
    "             \"https://web.archive.org/web/20200429234821/https://www.forbes.com/\",\n",
    "             \"https://web.archive.org/web/20200531011545/https://www.forbes.com\",\n",
    "             \"https://web.archive.org/web/20200630013536/https://www.forbes.com\",\n",
    "             \"https://web.archive.org/web/20200731033813/https://www.forbes.com\",\n",
    "             \"https://web.archive.org/web/20200831015140/https://www.forbes.com\",\n",
    "             \"https://web.archive.org/web/20200930014039/https://www.forbes.com\",\n",
    "            \"https://web.archive.org/web/20201031001523/https://www.forbes.com\"]\n",
    "urls_leadership = [\"https://web.archive.org/web/20200131024636if_/https://www.forbes.com/leadership/#2a7e3e111d66\",\n",
    "                  \"https://web.archive.org/web/20200228181820if_/https://www.forbes.com/leadership/#736555471d66\",\n",
    "                  \"https://web.archive.org/web/20200331105222if_/https://www.forbes.com/leadership/#79d88fda1d66\",\n",
    "                  \"https://web.archive.org/web/20200430223858if_/https://www.forbes.com/leadership/#257e37361d66\",\n",
    "                  \"https://web.archive.org/web/20200531163926if_/https://www.forbes.com/leadership/#462a36ad1d66\",\n",
    "                  \"https://web.archive.org/web/20200629232036if_/https://www.forbes.com/leadership/#4de1ed181d66\",\n",
    "                  \"https://web.archive.org/web/20200730233119if_/https://www.forbes.com/leadership/#29e0d7e91d66\",\n",
    "                  \"https://web.archive.org/web/20200831210608if_/https://www.forbes.com/leadership/#4c771921d66d\",\n",
    "                  \"https://web.archive.org/web/20200930230049if_/https://www.forbes.com/leadership/#7fdf47781d66\",\n",
    "                  \"https://web.archive.org/web/20201031154325if_/https://www.forbes.com/leadership/?sh=3d4013f1d66d\",\n",
    "                  \"https://web.archive.org/web/20200229185802if_/https://www.forbes.com/travel/#2e100999463a\",\n",
    "                  \"https://web.archive.org/web/20200525032741if_/https://www.forbes.com/travel/#54cf2eee463a\",\n",
    "                  \"https://web.archive.org/web/20200627050939if_/https://www.forbes.com/travel/#79de712b463a\",\n",
    "                  \"https://web.archive.org/web/20200831062900if_/https://www.forbes.com/travel/#3ae47577463a\",\n",
    "                  \"https://web.archive.org/web/20201118053258if_/https://www.forbes.com/travel/?sh=55b790f7463a\"]\n",
    "urls_life = [\"https://web.archive.org/web/20200131033836if_/https://www.forbes.com/lifestyle/#343de15022d1\",\n",
    "            \"https://web.archive.org/web/20200222143426if_/https://www.forbes.com/lifestyle/#48f2335b22d1\",\n",
    "            \"https://web.archive.org/web/20200331122830/https://www.forbes.com/lifestyle/\",\n",
    "            \"https://web.archive.org/web/20200430220427if_/https://www.forbes.com/lifestyle/#7a4ea5e422d1\",\n",
    "            \"https://web.archive.org/web/20200531163955if_/https://www.forbes.com/lifestyle/#4eeaa90222d1\",\n",
    "            \"https://web.archive.org/web/20200630213502if_/https://www.forbes.com/lifestyle/#65a798e022d1\",\n",
    "            \"https://web.archive.org/web/20200725151057if_/https://www.forbes.com/lifestyle/#5b6ffcf22d15\",\n",
    "            \"https://web.archive.org/web/20200831155136if_/https://www.forbes.com/lifestyle/#47a7765e22d1\",\n",
    "             \"https://web.archive.org/web/20200924192151if_/https://www.forbes.com/lifestyle/#5ab0be7f22d1\",\n",
    "            \"https://web.archive.org/web/20201031154333if_/https://www.forbes.com/lifestyle/?sh=4f4381a22d15\"]\n",
    "urls_inno = [\"https://web.archive.org/web/20200131024046if_/https://www.forbes.com/innovation/#18f8e74d6834\",\n",
    "             \"https://web.archive.org/web/20200229205148if_/https://www.forbes.com/innovation/#19682f336834\",\n",
    "             \"https://web.archive.org/web/20200331104725if_/https://www.forbes.com/innovation/#60e402d66834\",\n",
    "             \"https://web.archive.org/web/20200430233757if_/https://www.forbes.com/innovation/#6e3447146834\",\n",
    "             \"https://web.archive.org/web/20200531101716if_/https://www.forbes.com/innovation/#5dbc622d6834\",\n",
    "             \"https://web.archive.org/web/20200630225447if_/https://www.forbes.com/innovation/#12a0a3cb6834\",\n",
    "             \"https://web.archive.org/web/20200731215241if_/https://www.forbes.com/innovation/#580cee3d6834\",\n",
    "             \"https://web.archive.org/web/20200831211231if_/https://www.forbes.com/innovation/#2c0d4c9a6834\",\n",
    "             \"https://web.archive.org/web/20200930020213if_/https://www.forbes.com/innovation/#776f0deb6834\",\n",
    "             \"https://web.archive.org/web/20201031002146if_/https://www.forbes.com/innovation/?sh=6e583d4f6834\"]\n",
    "urls_busi = [\"https://web.archive.org/web/20200131024950if_/https://www.forbes.com/business/#55113751535f\",\n",
    "            \"https://web.archive.org/web/20200228181954if_/https://www.forbes.com/business/#9b6d2f2535fd\",\n",
    "            \"https://web.archive.org/web/20200331105430if_/https://www.forbes.com/business/#571a8a34535f\",\n",
    "            \"https://web.archive.org/web/20200430042859if_/https://www.forbes.com/business/#7df84e7a535f\",\n",
    "            \"https://web.archive.org/web/20200630225244if_/https://www.forbes.com/business/#57ced1f2535f\",\n",
    "            \"https://web.archive.org/web/20200930053706if_/https://www.forbes.com/business/#26b3ce28535f\"]\n",
    "urls_money = [\"https://web.archive.org/web/20200131141807if_/https://www.forbes.com/money/#64875cd5c19a\",\n",
    "             \"https://web.archive.org/web/20200229185510if_/https://www.forbes.com/money/#675d6a5fc19a\",\n",
    "             \"https://web.archive.org/web/20200331105345if_/https://www.forbes.com/money/#4269cf93c19a\",\n",
    "             \"https://web.archive.org/web/20200430223903if_/https://www.forbes.com/money/#537e51bbc19a\",\n",
    "             \"https://web.archive.org/web/20200521232924if_/https://www.forbes.com/money/#da1f780c19aa\",\n",
    "             \"https://web.archive.org/web/20201030214257if_/https://www.forbes.com/money/?sh=2af6cd5cc19a\"]"
   ]
  },
  {
   "cell_type": "code",
   "execution_count": 7,
   "metadata": {},
   "outputs": [],
   "source": [
    "# Round 2 of Internet Archive\n",
    "urls_leader_2 = [\"https://web.archive.org/web/20200506220747if_/https://www.forbes.com/leadership/#3707d2141d66\",\n",
    "                \"https://web.archive.org/web/20200512065447if_/https://www.forbes.com/leadership/#240a1e721d66\",\n",
    "                \"https://web.archive.org/web/20200715221933if_/https://www.forbes.com/leadership/#594fc00c1d66\"]\n",
    "urls_inno_2 = [\"https://web.archive.org/web/20200113231742if_/https://www.forbes.com/innovation/#4ce2e2326834\",\n",
    "              \"https://web.archive.org/web/20200415172056if_/https://www.forbes.com/innovation/#6e0ba5e36834\",\n",
    "              \"https://web.archive.org/web/20200519211431if_/https://www.forbes.com/innovation/#59f9bd296834\",\n",
    "              \"https://web.archive.org/web/20200716135325if_/https://www.forbes.com/innovation/#996bd676834a\",\n",
    "              \"https://web.archive.org/web/20200817143550if_/https://www.forbes.com/innovation/#63f9166a6834\",\n",
    "              \"https://web.archive.org/web/20200915192705if_/https://www.forbes.com/innovation/#6d1c38fb6834\"]\n",
    "urls_mon_2 =[\"https://web.archive.org/web/20200112081514if_/https://www.forbes.com/money/#5f724306c19a\",\n",
    "            \"https://web.archive.org/web/20200309224404if_/https://www.forbes.com/money/#35983630c19a\",\n",
    "            \"https://web.archive.org/web/20200413205324if_/https://www.forbes.com/money/#6bb17754c19a\",\n",
    "            \"https://web.archive.org/web/20200617155844if_/https://www.forbes.com/money/#e811002c19aa\",\n",
    "            \"https://web.archive.org/web/20200916150632if_/https://www.forbes.com/money/#4934116ac19a\"]"
   ]
  },
  {
   "cell_type": "code",
   "execution_count": 19,
   "metadata": {},
   "outputs": [],
   "source": [
    "# Round 2 of Internet Archive\n",
    "urls_lead_3 = [\"https://web.archive.org/web/20200121035820if_/https://www.forbes.com/leadership/#7eb056161d66\",\n",
    "                \"https://web.archive.org/web/20200708174348if_/https://www.forbes.com/leadership/#1b76d6601d66\",\n",
    "                \"https://web.archive.org/web/20200309224256if_/https://www.forbes.com/leadership/#47372e771d66\",\n",
    "                \"https://web.archive.org/web/20200907184232if_/https://www.forbes.com/leadership/#1700a1361d66\",\n",
    "                \"https://web.archive.org/web/20201009083341if_/https://www.forbes.com/leadership/#543eafc21d66\",\n",
    "                \"https://web.archive.org/web/20200808111343if_/https://www.forbes.com/leadership/#7b16ca291d66\"]\n",
    "urls_inno_3 = [\"https://web.archive.org/web/20200121210957if_/https://www.forbes.com/innovation/#2180d3a26834\",\n",
    "                \"https://web.archive.org/web/20200317022330if_/https://www.forbes.com/innovation/#5abd9f6d6834\",\n",
    "                \"https://web.archive.org/web/20200211223738if_/https://www.forbes.com/innovation/#4d66a4746834\",\n",
    "                \"https://web.archive.org/web/20200411194717if_/https://www.forbes.com/innovation/#2e98409b6834\",\n",
    "                \"https://web.archive.org/web/20200509164059if_/https://www.forbes.com/innovation/#7a0fbaac6834\",\n",
    "                \"https://web.archive.org/web/20200617170224if_/https://www.forbes.com/innovation/#3b4b675b6834\",\n",
    "                \"https://web.archive.org/web/20200707232627if_/https://www.forbes.com/innovation/#600a29326834\"]\n",
    "urls_life_3 = [\"https://web.archive.org/web/20200308213146if_/https://www.forbes.com/lifestyle/#59ffa73922d1\",\n",
    "              \"https://web.archive.org/web/20200708111958if_/https://www.forbes.com/lifestyle/#13a761df22d1\",\n",
    "              \"https://web.archive.org/web/20200809113436if_/https://www.forbes.com/lifestyle/#77e04df222d1\",\n",
    "              \"https://web.archive.org/web/20201019013144if_/https://www.forbes.com/lifestyle/#6edbefdf22d1\"]\n",
    "urls_mon_3 = [\"https://web.archive.org/web/20200609170822if_/https://www.forbes.com/money/#3f1df169c19a\",\n",
    "              \"https://web.archive.org/web/20200810004310if_/https://www.forbes.com/money/#32623da8c19a\",\n",
    "              \"https://web.archive.org/web/20200907170418if_/https://www.forbes.com/money/#7256ab5ac19a\",\n",
    "              \"https://web.archive.org/web/20200809121055if_/https://www.forbes.com/money/#6a5190a2c19a\"]\n",
    "urls_busi_3 = [\"https://web.archive.org/web/20200715072547if_/https://www.forbes.com/business/#5bcd898f535f\",\n",
    "              \"https://web.archive.org/web/20201019031733if_/https://www.forbes.com/business/#6b3cdeac535f\",\n",
    "              \"https://web.archive.org/web/20200818010208if_/https://www.forbes.com/business/#33e67774535f\"]"
   ]
  },
  {
   "cell_type": "code",
   "execution_count": 27,
   "metadata": {},
   "outputs": [],
   "source": [
    "month_inno = [\"https://web.archive.org/web/20200101163634if_/https://www.forbes.com/healthcare/#427537b3b4ea\",\n",
    "      \"https://web.archive.org/web/20200115114752if_/https://www.forbes.com/healthcare/#2f880e903b4e\",\n",
    "       \"https://web.archive.org/web/20200201025524if_/https://www.forbes.com/healthcare/#1e6cabe53b4e\",\n",
    "       \"https://web.archive.org/web/20200229185129if_/https://www.forbes.com/healthcare/#2aea0bd13b4e\",\n",
    "      \"https://web.archive.org/web/20200304203446if_/https://www.forbes.com/healthcare/#2b820a653b4e\",\n",
    "      \"https://web.archive.org/web/20200325201125if_/https://www.forbes.com/healthcare/#142333f3b4ea\",\n",
    "      \"https://web.archive.org/web/20200426232950if_/https://www.forbes.com/healthcare/#78e35e8f3b4e\",\n",
    "      \"https://web.archive.org/web/20200517113608if_/https://www.forbes.com/healthcare/#181b7f3b3b4e\",\n",
    "      \"https://web.archive.org/web/20200531163827if_/https://www.forbes.com/healthcare/#749954323b4e\",\n",
    "      \"https://web.archive.org/web/20200629182743if_/https://www.forbes.com/healthcare/#5d35c5983b4e\",\n",
    "      \"https://web.archive.org/web/20200701160049if_/https://www.forbes.com/healthcare/#578c021f3b4e\",\n",
    "      \"https://web.archive.org/web/20200418082456if_/https://www.forbes.com/healthcare/#5a84029c3b4e\",\n",
    "      \"https://web.archive.org/web/20200517113608if_/https://www.forbes.com/healthcare/#181b79ca3b4e\",\n",
    "      \"https://web.archive.org/web/20200606081749if_/https://www.forbes.com/healthcare/#751521f43b4e\",\n",
    "      \"https://web.archive.org/web/20200116053443if_/https://20200116053443/forbes.com/green-tech/#18f8c19f48d5\",\n",
    "      \"https://web.archive.org/web/20200229185128if_/https://20200229185128/forbes.com/green-tech/#711a4895337d\",\n",
    "      \"https://web.archive.org/web/20200329095648if_/https://20200329095648/forbes.com/green-tech/#929096e289ea\",\n",
    "      \"https://web.archive.org/web/20200426232947if_/https://www.forbes.com/green-tech/#76e35d4a1f6c\",\n",
    "      \"https://web.archive.org/web/20200323164231if_/https://20200323164231/forbes.com/green-tech/#54363c073bb4\",\n",
    "      \"https://web.archive.org/web/20200416050347if_/https://20200416050347/forbes.com/green-tech/#133f315f37e4\",\n",
    "      \"https://web.archive.org/web/20200416050347if_/https://20200416050347/forbes.com/green-tech/#133f315f37e4\",\n",
    "       \"https://web.archive.org/web/20200524232939if_/https://www.forbes.com/green-tech/#38f540101f6c\",\n",
    "        \"https://web.archive.org/web/20200602162152if_/https://www.forbes.com/green-tech/#7426daba1f6c\"]\n",
    "\n",
    "month_lead = [\"https://web.archive.org/web/20200113230000if_/https://www.forbes.com/worlds-billionaires/#4192b5b25864\",\n",
    "      \"https://web.archive.org/web/20200307211918if_/https://www.forbes.com/worlds-billionaires/#7f9de71e5864\",\n",
    "      \"https://web.archive.org/web/20200413202739if_/https://www.forbes.com/worlds-billionaires/#6f2a081e5864\",\n",
    "      \"https://web.archive.org/web/20200713090633if_/https://www.forbes.com/worlds-billionaires/#154d06ee5864\",\n",
    "      \"https://web.archive.org/web/20200331103200if_/https://www.forbes.com/worlds-billionaires/#2975e3605864\",\n",
    "      \"https://web.archive.org/web/20200519010416if_/https://www.forbes.com/worlds-billionaires/#45f5bcaa5864\",\n",
    "      \"https://web.archive.org/web/20200609170941if_/https://www.forbes.com/worlds-billionaires/#488f25475864\",\n",
    "      \"https://web.archive.org/web/20200629194739if_/https://www.forbes.com/worlds-billionaires/#630ef1695864\",\n",
    "      \"https://web.archive.org/web/20200815200153if_/https://www.forbes.com/worlds-billionaires/#7016ebe25864\",\n",
    "      \"https://web.archive.org/web/20200914002404if_/https://www.forbes.com/worlds-billionaires/#310fb3cc5864\",\n",
    "      \"https://web.archive.org/web/20200327143404if_/https://www.forbes.com/worlds-billionaires/#2f0a0d735864\",\n",
    "      \"https://web.archive.org/web/20200108181506if_/https://www.forbes.com/fintech/#fee068513f1a\",\n",
    "      \"https://web.archive.org/web/20200328095309if_/https://www.forbes.com/fintech/#610f3a1613f1\",\n",
    "      \"https://web.archive.org/web/20200430025831if_/https://www.forbes.com/fintech/#2cb57c9613f1\",\n",
    "      \"https://web.archive.org/web/20200412192957if_/https://www.forbes.com/fintech/#6dbee02c13f1\",\n",
    "      \"https://web.archive.org/web/20200512122602if_/https://www.forbes.com/fintech/#58395dfa13f1\",\n",
    "      \"https://web.archive.org/web/20200609051935if_/https://www.forbes.com/fintech/#69541d313f1a\",\n",
    "      \"https://web.archive.org/web/20200701050146if_/https://www.forbes.com/fintech/#7790dc8013f1\",\n",
    "      \"https://web.archive.org/web/20200803204133if_/https://www.forbes.com/fintech/#441f45d013f1\",\n",
    "      \"https://web.archive.org/web/20200902213205if_/https://www.forbes.com/fintech/#600be60b13f1\"]\n",
    "    \n"
   ]
  },
  {
   "cell_type": "code",
   "execution_count": 34,
   "metadata": {},
   "outputs": [],
   "source": [
    "month_1 = [\"https://web.archive.org/web/20200112224558if_/https://www.forbes.com/spirits/#22cf82eaa74f\",\n",
    "      \"https://web.archive.org/web/20200129011732if_/https://www.forbes.com/spirits/#612ffbb5a74f\",\n",
    "      \"https://web.archive.org/web/20200229205231if_/https://www.forbes.com/spirits/#60d8f6bca74f\",\n",
    "      \"https://web.archive.org/web/20200309224609if_/https://www.forbes.com/spirits/#1bca284fa74f\",\n",
    "      \"https://web.archive.org/web/20200331105636if_/https://www.forbes.com/spirits/#76fc7406a74f\",\n",
    "      \"https://web.archive.org/web/20200401204137if_/https://www.forbes.com/spirits/#524a6780a74f\",\n",
    "      \"https://web.archive.org/web/20200430102421if_/https://www.forbes.com/spirits/#30adafe2a74f\",\n",
    "      \"https://web.archive.org/web/20200531192553if_/https://www.forbes.com/spirits/#e29f94a74f41\",\n",
    "      \"https://web.archive.org/web/20200518124221if_/https://www.forbes.com/spirits/#417e7777a74f\",\n",
    "      \"https://web.archive.org/web/20200723235644if_/https://www.forbes.com/spirits/#474ba28ca74f\",\n",
    "      \"https://web.archive.org/web/20200112224425if_/https://www.forbes.com/manufacturing/#657e126460c1\",\n",
    "      \"https://web.archive.org/web/20200605014911if_/https://www.forbes.com/manufacturing/#1fbaf18160c1\",\n",
    "      \"https://web.archive.org/web/20200629062104if_/https://www.forbes.com/manufacturing/#372c7b8860c1\",\n",
    "      \"https://web.archive.org/web/20200902004342if_/https://www.forbes.com/manufacturing/#135500fa60c1\",\n",
    "      \"https://web.archive.org/web/20200109164436if_/https://www.forbes.com/education/#2a51860261de\"]\n",
    "\n",
    "month_2 = [\"https://web.archive.org/web/20200225173746if_/https://www.forbes.com/education/#79ad198161de\",\n",
    "      \"https://web.archive.org/web/20200303201242if_/https://www.forbes.com/education/#5547756361de\",\n",
    "      \"https://web.archive.org/web/20200522171031if_/https://www.forbes.com/education/#552d743761de\",\n",
    "      \"https://web.archive.org/web/20200701203622if_/https://www.forbes.com/education/#6f983f6361de\",\n",
    "      \"https://web.archive.org/web/20200617011834if_/https://www.forbes.com/education/#2b3b421461de\",\n",
    "      \"https://web.archive.org/web/20200815183533if_/https://www.forbes.com/education/#17f7d22061de\",\n",
    "      \"https://web.archive.org/web/20200112161256if_/https://www.forbes.com/policy/#5c07a5eb2c48\",\n",
    "      \"https://web.archive.org/web/20200130020240if_/https://www.forbes.com/policy/#1d8faa232c48\",\n",
    "      \"https://web.archive.org/web/20200229185629if_/https://www.forbes.com/policy/#70ce9a782c48\",\n",
    "      \"https://web.archive.org/web/20200216032426if_/https://www.forbes.com/policy/#7836a9372c48\",\n",
    "      \"https://web.archive.org/web/20200115114726if_/https://www.forbes.com/diversity-inclusion/#73b7b34b46d2\",\n",
    "      \"https://web.archive.org/web/20200201025917if_/https://www.forbes.com/diversity-inclusion/#62b034e846d2\",\n",
    "      \"https://web.archive.org/web/20200303201241if_/https://www.forbes.com/diversity-inclusion/#7f477b9846d2\",\n",
    "      \"https://web.archive.org/web/20200914033314if_/https://www.forbes.com/diversity-inclusion/#56ccfcec46d2\",\n",
    "      \"https://web.archive.org/web/20201007233305if_/https://www.forbes.com/diversity-inclusion/#67d970d546d2\"]\n",
    "\n",
    "month_3 = [\"https://web.archive.org/web/20200229185436if_/https://www.forbes.com/diversity-inclusion/#7b9cdf7046d2\",\n",
    "      \"https://web.archive.org/web/20200522080751if_/https://www.forbes.com/diversity-inclusion/#755c9f8046d2\",\n",
    "      \"https://web.archive.org/web/20200630013207if_/https://www.forbes.com/diversity-inclusion/#779a547246d2\",\n",
    "      \"https://web.archive.org/web/20200820083312if_/https://www.forbes.com/diversity-inclusion/#72402ce146d2\",\n",
    "      \"https://web.archive.org/web/20200225155617if_/https://www.forbes.com/diversity-inclusion/#3710436746d2\",\n",
    "      \"https://web.archive.org/web/20200229205132if_/https://www.forbes.com/big-data/#3987ef3216d1\",\n",
    "      \"https://web.archive.org/web/20200304203151if_/https://www.forbes.com/big-data/#62cf5ebd16d1\",\n",
    "      \"https://web.archive.org/web/20200115020109if_/https://www.forbes.com/big-data/#28aeddd916d1\",\n",
    "      \"https://web.archive.org/web/20200526131936if_/https://www.forbes.com/big-data/#4123767e16d1\",\n",
    "      \"https://web.archive.org/web/20200316015017if_/https://www.forbes.com/big-data/#6078e21b16d1\",\n",
    "      \"https://web.archive.org/web/20200227173654if_/https://www.forbes.com/careers/#49690ac61d29\",\n",
    "      \"https://web.archive.org/web/20200202034301if_/https://www.forbes.com/careers/#67be98e81d29\",\n",
    "      \"https://web.archive.org/web/20200110200537if_/https://www.forbes.com/careers/#29ffec641d29\",\n",
    "      \"https://web.archive.org/web/20200728041350if_/https://www.forbes.com/careers/#641071411d29\"]\n",
    "month_4 = [\"https://web.archive.org/web/20200914191504if_/https://www.forbes.com/careers/#46aad4501d29\",\n",
    "      \"https://web.archive.org/web/20200227173654if_/https://www.forbes.com/careers/#5e9903f41d29\",\n",
    "      \"https://web.archive.org/web/20200110200537if_/https://www.forbes.com/careers/#15dfebe01d29\",\n",
    "      \"https://web.archive.org/web/20200225155518if_/https://www.forbes.com/social-media/#658f4c5c410f\",\n",
    "      \"https://web.archive.org/web/20200723235633if_/https://www.forbes.com/social-media/#156b745e410f\",\n",
    "      \"https://web.archive.org/web/20200621214840if_/https://www.forbes.com/social-media/#2f9ad99a410f\",\n",
    "      \"https://web.archive.org/web/20200803204115if_/https://www.forbes.com/social-media/#69be9cad410f\",\n",
    "      \"https://web.archive.org/web/20200111215904if_/https://www.forbes.com/social-media/#4b2e2bd8410f\",\n",
    "      \"https://web.archive.org/web/20200822163320if_/https://www.forbes.com/social-media/#42479c1410fd\",\n",
    "      \"https://web.archive.org/web/20200303203555if_/https://www.forbes.com/social-media/#415cb621410f\",\n",
    "      \"https://web.archive.org/web/20200206210612if_/https://www.forbes.com/arts/#14432ffd1b64\",\n",
    "      \"https://web.archive.org/web/20200125232831if_/https://www.forbes.com/arts/#6ab916941b64\",\n",
    "      \"https://web.archive.org/web/20200722202132if_/https://www.forbes.com/arts/#6bb04e3a1b64\",\n",
    "      \"https://web.archive.org/web/20200521035918if_/https://www.forbes.com/arts/#2e72aea01b64\",\n",
    "      \"https://web.archive.org/web/20200818003735if_/https://www.forbes.com/arts/#5a7009821b64\"]\n",
    "\n"
   ]
  },
  {
   "cell_type": "code",
   "execution_count": 43,
   "metadata": {},
   "outputs": [],
   "source": [
    "jul = [\"https://web.archive.org/web/20200922013405if_/https://www.forbes.com/forbeswomen/#6f52687b621e\",\n",
    "      \"https://web.archive.org/web/20200907170555if_/https://www.forbes.com/forbeswomen/#a1852b4621ee\",\n",
    "      \"https://web.archive.org/web/20201001062204if_/https://www.forbes.com/forbeswomen/#6da35d0e621e\",\n",
    "      \"https://web.archive.org/web/20200819190630if_/https://www.forbes.com/forbeswomen/#3f8dad08621e\",\n",
    "      \"https://web.archive.org/web/20200728041051if_/https://www.forbes.com/forbeswomen/#435dd23f621e\",\n",
    "      \"https://web.archive.org/web/20200914133406if_/https://www.forbes.com/sportsmoney/#6612b5547ff6\",\n",
    "      \"https://web.archive.org/web/20201019162747if_/https://www.forbes.com/sportsmoney/#3b20c41b7ff6\",\n",
    "      \"https://web.archive.org/web/20200426233554if_/https://www.forbes.com/sportsmoney/#3e48e75f7ff6\",\n",
    "      \"https://web.archive.org/web/20200829212139if_/https://www.forbes.com/sportsmoney/#10b902167ff6\",\n",
    "      \"https://web.archive.org/web/20200504044328if_/https://www.forbes.com/sportsmoney/#449f04117ff6\",\n",
    "      \"https://web.archive.org/web/20200911082956if_/https://www.forbes.com/sportsmoney/#41c930557ff6\",\n",
    "      \"https://web.archive.org/web/20200528025748if_/https://www.forbes.com/sportsmoney/#6f6717467ff6\",\n",
    "      \"https://web.archive.org/web/20200319040254if_/https://www.forbes.com/sportsmoney/#679560927ff6\",\n",
    "      \"https://web.archive.org/web/20200305060928if_/https://www.forbes.com/hollywood-entertainment/#68403c615699\"]\n",
    "\n",
    "aug = [\"https://web.archive.org/web/20200425062356if_/https://www.forbes.com/hollywood-entertainment/#4c41c1155699\",\n",
    "      \"https://web.archive.org/web/20200305060928if_/https://www.forbes.com/hollywood-entertainment/#7f902baf5699\",\n",
    "      \"https://web.archive.org/web/20200922002243if_/https://www.forbes.com/hollywood-entertainment/#7e61245c5699\",\n",
    "      \"https://web.archive.org/web/20200912012831if_/https://www.forbes.com/hollywood-entertainment/#229dddeb5699\",\n",
    "      \"https://web.archive.org/web/20200723014258if_/https://www.forbes.com/hollywood-entertainment/#462681ae5699\",\n",
    "      \"https://web.archive.org/web/20200603125131if_/https://www.forbes.com/hollywood-entertainment/#7cdcc0c65699\",\n",
    "      \"https://web.archive.org/web/20200518080303if_/https://www.forbes.com/hollywood-entertainment/#150ece9c5699\",\n",
    "      \"https://web.archive.org/web/20201029205427if_/https://www.forbes.com/hollywood-entertainment/?sh=1f1428fa5699\",\n",
    "      \"https://web.archive.org/web/20200506101947if_/https://www.forbes.com/hollywood-entertainment/#41ffae175699\",\n",
    "      \"https://web.archive.org/web/20200809025704if_/https://www.forbes.com/hollywood-entertainment/#4d668d305699\",\n",
    "      \"https://web.archive.org/web/20200915025341if_/https://www.forbes.com/personal-finance/#39aef548ebb0\",\n",
    "      \"https://web.archive.org/web/20201011023817if_/https://www.forbes.com/personal-finance/#13061d88ebb0\",\n",
    "      \"https://web.archive.org/web/20200916090741if_/https://www.forbes.com/personal-finance/#113bbeeaebb0\",\n",
    "      \"https://web.archive.org/web/20200524164953if_/https://www.forbes.com/personal-finance/#678789b2ebb0\"]\n",
    "\n",
    "sep = [\"https://web.archive.org/web/20200806172939if_/https://www.forbes.com/personal-finance/#12d24c1febb0\",\n",
    "      \"https://web.archive.org/web/20200522174457if_/https://www.forbes.com/forbes-travel-guide/#66ccf1674700\",\n",
    "      \"https://web.archive.org/web/20200914175213if_/https://www.forbes.com/forbes-travel-guide/#5c3f253d4700\",\n",
    "      \"https://web.archive.org/web/20201029034206if_/https://www.forbes.com/forbes-travel-guide/#2b7323e84700\",\n",
    "      \"https://web.archive.org/web/20200522110747if_/https://www.forbes.com/forbes-travel-guide/#7821543f4700\",\n",
    "      \"https://web.archive.org/web/20200701035549if_/https://www.forbes.com/forbes-travel-guide/#5ad443c94700\",\n",
    "      \"https://web.archive.org/web/20200818131114if_/https://www.forbes.com/forbes-travel-guide/#67d202444700\",\n",
    "      \"https://web.archive.org/web/20201019023306if_/https://www.forbes.com/forbes-travel-guide/#1da449d64700\",\n",
    "      \"https://web.archive.org/web/20200913210440if_/https://www.forbes.com/forbes-travel-guide/#2988e1324700\",\n",
    "      \"https://web.archive.org/web/20200915174427if_/https://www.forbes.com/leadership-strategy/#304e478c65ab\",\n",
    "      \"https://web.archive.org/web/20200914191359if_/https://www.forbes.com/leadership-strategy/#1109dcee65ab\",\n",
    "      \"https://web.archive.org/web/20200912201754if_/https://www.forbes.com/leadership-strategy/#4877c10765ab\",\n",
    "      \"https://web.archive.org/web/20200225155645if_/https://www.forbes.com/leadership-strategy/#1ee0ae4465ab\",]"
   ]
  },
  {
   "cell_type": "code",
   "execution_count": null,
   "metadata": {},
   "outputs": [],
   "source": [
    "jan1 = [\"https://web.archive.org/web/20200110200710if_/https://www.forbes.com/leadership-strategy/#6751666465ab\",\n",
    "       \"https://web.archive.org/web/20200403035428/https://www.forbes.com/leadership-strategy/\",\n",
    "       \"https://web.archive.org/web/20200704123844if_/https://www.forbes.com/leadership-strategy/#7486137d65ab\",\n",
    "        \"https://web.archive.org/web/20200523094125if_/https://www.forbes.com/leadership-strategy/#6268a9d865ab\",\n",
    "       \"https://web.archive.org/web/20200604053621if_/https://www.forbes.com/leadership-strategy/#7ac49f7865ab\",\n",
    "       \"https://web.archive.org/web/20200915174342if_/https://www.forbes.com/style-beauty/#58bd9f8e3ef7\",\n",
    "       \"https://web.archive.org/web/20200903040953if_/https://www.forbes.com/style-beauty/#34d822083ef7\",\n",
    "       \"https://web.archive.org/web/20200523050641if_/https://www.forbes.com/style-beauty/#730d207d3ef7\",\n",
    "       \"https://web.archive.org/web/20200826043047if_/https://www.forbes.com/style-beauty/#323862f53ef7\",\n",
    "       \"https://web.archive.org/web/20200604053550if_/https://www.forbes.com/style-beauty/#10f4284e3ef7\",\n",
    "       \"https://web.archive.org/web/20200418194009if_/https://www.forbes.com/style-beauty/#453e39863ef7\",\n",
    "       \"https://web.archive.org/web/20200229205143if_/https://www.forbes.com/aerospace-defense/#6b782f0b2d3f\",\n",
    "       \"https://web.archive.org/web/20200131024952if_/https://www.forbes.com/aerospace-defense/#1013b682d3f6\",\n",
    "       \"https://web.archive.org/web/20200721190445if_/https://www.forbes.com/aerospace-defense/#4ad391902d3f\",\n",
    "       \"https://web.archive.org/web/20200817020628if_/https://www.forbes.com/aerospace-defense/#34bb21b92d3f\"]\n",
    "\n",
    "feb2 = [\"https://web.archive.org/web/20200302194805if_/https://www.forbes.com/aerospace-defense/#1a1a9cc82d3f\",\n",
    "       \"https://web.archive.org/web/20200329100118if_/https://www.forbes.com/aerospace-defense/#3b3d3a192d3f\",\n",
    "       \"https://web.archive.org/web/20201029174344if_/https://www.forbes.com/aerospace-defense/#79257cfa2d3f\",\n",
    "       \"https://web.archive.org/web/20201030174436if_/https://www.forbes.com/aerospace-defense/?sh=66ac9efd2d3f\",\n",
    "       \"https://web.archive.org/web/20200919224045if_/https://www.forbes.com/aerospace-defense/#7da70e1f2d3f\",\n",
    "       \"https://web.archive.org/web/20200920005007if_/https://www.forbes.com/aerospace-defense/#6e7d73fe2d3f\",\n",
    "        \"https://web.archive.org/web/20200609033326if_/https://www.forbes.com/aerospace-defense/#1be3d59b2d3f\",\n",
    "       \"https://web.archive.org/web/20200521021645if_/https://www.forbes.com/aerospace-defense/#5454d31c2d3f\",\n",
    "       \"https://web.archive.org/web/20200818003417if_/https://www.forbes.com/aerospace-defense/#65dd01f42d3f\",\n",
    "       \"https://web.archive.org/web/20200409190537if_/https://www.forbes.com/aerospace-defense/#390560472d3f\",\n",
    "       \"https://web.archive.org/web/20200904141325if_/https://www.forbes.com/aerospace-defense/#13873c542d3f\",\n",
    "       \"https://web.archive.org/web/20200914211153if_/https://www.forbes.com/consumer-tech/#4055fdb476c6\",\n",
    "       \"https://web.archive.org/web/20201030203715if_/https://www.forbes.com/consumer-tech/?sh=4c8ab5ad76c6\",\n",
    "       \"https://web.archive.org/web/20200722114616if_/https://www.forbes.com/consumer-tech/#7038867076c6\",\n",
    "       \"https://web.archive.org/web/20201019193542if_/https://www.forbes.com/consumer-tech/#5e1c704176c6\"]\n",
    "\n",
    "mar3 = [\"https://web.archive.org/web/20200922002053if_/https://www.forbes.com/consumer-tech/#2a1f9e6576c6\",\n",
    "       \"https://web.archive.org/web/20200512225310if_/https://www.forbes.com/consumer-tech/#73d7862376c6\",\n",
    "       \"https://web.archive.org/web/20200623005745if_/https://www.forbes.com/consumer-tech/#2c6e534776c6\",\n",
    "        \"https://web.archive.org/web/20200223144906if_/https://www.forbes.com/consumer-tech/#7a66038876c6\",\n",
    "       \"https://web.archive.org/web/20200304203355if_/https://www.forbes.com/consumer-tech/#9e16d4b76c6d\",\n",
    "       \"https://web.archive.org/web/20200317022559if_/https://www.forbes.com/consumer-tech/#6cb0071576c6\",\n",
    "       \"https://web.archive.org/web/20200606061918if_/https://www.forbes.com/consumer-tech/#4dc8b14776c6\",\n",
    "       \"https://web.archive.org/web/20200125232622if_/https://www.forbes.com/transportation/#15a728e710b3\",\n",
    "       \"https://web.archive.org/web/20201030030458if_/https://www.forbes.com/transportation/?sh=2a076a3710b3\",\n",
    "       \"https://web.archive.org/web/20200724014918if_/https://www.forbes.com/transportation/#322b2b710b3c\",\n",
    "       \"https://web.archive.org/web/20200529223126if_/https://www.forbes.com/transportation/#1fc7e810b3c1\",\n",
    "       \"https://web.archive.org/web/20200924192253if_/https://www.forbes.com/transportation/#5fb1c50e10b3\",\n",
    "       \"https://web.archive.org/web/20201017094024if_/https://www.forbes.com/transportation/#654ed94410b3\",\n",
    "       \"https://web.archive.org/web/20200818004038if_/https://www.forbes.com/transportation/#893322f10b3c\"]\n",
    "\n",
    "apr4 = [\"https://web.archive.org/web/20200321045503if_/https://www.forbes.com/transportation/#26a1e48910b3\",\n",
    "       \"\",\n",
    "       \"\",\n",
    "       \"\",\n",
    "       \"\",\n",
    "       \"\",\n",
    "       \"\",\n",
    "       \"\",\n",
    "       \"\"]"
   ]
  },
  {
   "cell_type": "code",
   "execution_count": 8,
   "metadata": {},
   "outputs": [],
   "source": [
    "def get_url(links):\n",
    "    lst = []\n",
    "    for url in links:\n",
    "        page = requests.get(url).text\n",
    "        soup = BeautifulSoup(page, 'html.parser')\n",
    "        for a in soup.find_all('a', href=True):\n",
    "            lst.append(a['href'][43:])\n",
    "\n",
    "    non_vids = [x for x in lst if not x.startswith(\"https://www.forbes.com/video/\")]\n",
    "    non_vids_noamp = [x for x in non_vids if not x.endswith(\"/amp/\")]\n",
    "    non_advisor =  [x for x in non_vids_noamp if not x.startswith(\"https://www.forbes.com/advisor/\")]\n",
    "    unique_hrefs = [x for x in non_advisor if x.startswith(\"https://www.forbes.com/sites/\") and len(x) >= 80]\n",
    "    return np.unique(unique_hrefs)"
   ]
  },
  {
   "cell_type": "code",
   "execution_count": 20,
   "metadata": {},
   "outputs": [],
   "source": [
    "url_lead_3 = get_url(urls_lead_3)\n",
    "url_inno_3 = get_url(urls_inno_3)\n",
    "url_mon_3 = get_url(urls_mon_2)\n",
    "url_life_3 = get_url(urls_life_3)\n",
    "url_busi_3 = get_url(urls_busi_3)"
   ]
  },
  {
   "cell_type": "code",
   "execution_count": 272,
   "metadata": {},
   "outputs": [],
   "source": [
    "url_2020_lst = get_url(urls_2020)\n",
    "urls_leadership_lst = get_url(urls_leadership)\n",
    "urls_life_lst = get_url(urls_life)\n",
    "urls_inno = get_url(urls_inno)\n",
    "urls_busi = get_url(urls_busi)\n",
    "urls_money = get_url(urls_money)\n",
    "\n",
    "url_lead_2 = get_url(urls_leader_2)\n",
    "url_inno_2 = get_url(urls_inno_2)\n",
    "url_mon_2 = get_url(urls_mon_2)\n",
    "\n",
    "month_first = get_url(month_inno)\n",
    "mont_sec = get_url(month_lead)\n",
    "\n",
    "month_third = get_url(month_1)\n",
    "month_fourth = get_url(month_2)\n",
    "month_fifth = get_url(month_3)\n",
    "month_sixth = get_url(month_4)\n",
    "\n",
    "jun_links = get_url(jul)\n",
    "aug_links = get_url(aug)\n",
    "sep_links = get_url(sep)\n",
    "\n"
   ]
  },
  {
   "cell_type": "code",
   "execution_count": 273,
   "metadata": {
    "scrolled": false
   },
   "outputs": [
    {
     "name": "stdout",
     "output_type": "stream",
     "text": [
      "242\n",
      "279\n",
      "345\n",
      "183\n",
      "219\n",
      "117\n"
     ]
    }
   ],
   "source": [
    "print(len(url_2020_lst))\n",
    "print(len(urls_leadership_lst))\n",
    "print(len(urls_life_lst))\n",
    "print(len(urls_inno))\n",
    "print(len(urls_busi))\n",
    "print(len(urls_money))\n",
    "print(len(url_lead_2))\n",
    "print(len(url_inno_2))\n",
    "print(len(url_mon_2))\n",
    "print(len(month_first))\n",
    "print(len(mont_sec))\n",
    "\n",
    "print(len(month_third))\n",
    "print(len(month_fourth))\n",
    "print(len(month_fifth))\n",
    "print(len(month_sixth))\n",
    "\n",
    "print(len(month_third))\n",
    "print(len(month_fourth))\n",
    "print(len(month_fifth))\n",
    "print(len(month_sixth))\n",
    "\n",
    "print(len(jun_links))\n",
    "print(len(aug_links))\n",
    "print(len(sep_links))"
   ]
  },
  {
   "cell_type": "code",
   "execution_count": null,
   "metadata": {
    "scrolled": true
   },
   "outputs": [],
   "source": [
    "master_urls = []\n",
    "for i in [url_2020_lst,urls_leadership_lst,urls_life_lst,urls_inno,urls_busi,urls_money]:\n",
    "    master_urls.extend(i)"
   ]
  },
  {
   "cell_type": "code",
   "execution_count": 12,
   "metadata": {},
   "outputs": [],
   "source": [
    "master_urls_2 = []\n",
    "for i in [url_lead_2, url_inno_2, url_mon_2]:\n",
    "    master_urls_2.extend(i)"
   ]
  },
  {
   "cell_type": "code",
   "execution_count": 22,
   "metadata": {},
   "outputs": [],
   "source": [
    "master_urls_3 = []\n",
    "for i in [url_lead_3, url_inno_3, url_mon_3, url_busi_3, url_life_3]:\n",
    "    master_urls_3.extend(i)"
   ]
  },
  {
   "cell_type": "code",
   "execution_count": 30,
   "metadata": {},
   "outputs": [],
   "source": [
    "master_4 = []\n",
    "for i in [month_first, mont_sec]:\n",
    "    master_4.extend(i)"
   ]
  },
  {
   "cell_type": "code",
   "execution_count": 37,
   "metadata": {},
   "outputs": [],
   "source": [
    "master_5 = []\n",
    "for i in [month_third, month_fourth, month_fifth, month_sixth]:\n",
    "    master_5.extend(i)"
   ]
  },
  {
   "cell_type": "code",
   "execution_count": 47,
   "metadata": {},
   "outputs": [],
   "source": [
    "master_6 = []\n",
    "for i in [jun_links, aug_links, sep_links]:\n",
    "    master_6.extend(i)"
   ]
  },
  {
   "cell_type": "code",
   "execution_count": 48,
   "metadata": {},
   "outputs": [
    {
     "data": {
      "text/plain": [
       "1057"
      ]
     },
     "execution_count": 48,
     "metadata": {},
     "output_type": "execute_result"
    }
   ],
   "source": [
    "len(master_6)"
   ]
  },
  {
   "cell_type": "code",
   "execution_count": 38,
   "metadata": {},
   "outputs": [
    {
     "data": {
      "text/plain": [
       "1556"
      ]
     },
     "execution_count": 38,
     "metadata": {},
     "output_type": "execute_result"
    }
   ],
   "source": [
    "len(master_5)"
   ]
  },
  {
   "cell_type": "code",
   "execution_count": 39,
   "metadata": {},
   "outputs": [],
   "source": [
    "master_5 = np.unique(master_5)"
   ]
  },
  {
   "cell_type": "code",
   "execution_count": 40,
   "metadata": {},
   "outputs": [
    {
     "data": {
      "text/plain": [
       "1446"
      ]
     },
     "execution_count": 40,
     "metadata": {},
     "output_type": "execute_result"
    }
   ],
   "source": [
    "len(master_5)"
   ]
  },
  {
   "cell_type": "code",
   "execution_count": 23,
   "metadata": {
    "scrolled": true
   },
   "outputs": [],
   "source": [
    "master_urls = np.unique(master_urls)"
   ]
  },
  {
   "cell_type": "code",
   "execution_count": 276,
   "metadata": {
    "scrolled": true
   },
   "outputs": [
    {
     "data": {
      "text/plain": [
       "1210"
      ]
     },
     "execution_count": 276,
     "metadata": {},
     "output_type": "execute_result"
    }
   ],
   "source": [
    "len(master_urls)"
   ]
  },
  {
   "cell_type": "code",
   "execution_count": 13,
   "metadata": {},
   "outputs": [
    {
     "data": {
      "text/plain": [
       "351"
      ]
     },
     "execution_count": 13,
     "metadata": {},
     "output_type": "execute_result"
    }
   ],
   "source": [
    "len(master_urls_2)"
   ]
  },
  {
   "cell_type": "code",
   "execution_count": 24,
   "metadata": {
    "scrolled": true
   },
   "outputs": [
    {
     "data": {
      "text/plain": [
       "663"
      ]
     },
     "execution_count": 24,
     "metadata": {},
     "output_type": "execute_result"
    }
   ],
   "source": [
    "len(master_urls_3)"
   ]
  },
  {
   "cell_type": "code",
   "execution_count": 31,
   "metadata": {},
   "outputs": [
    {
     "data": {
      "text/plain": [
       "784"
      ]
     },
     "execution_count": 31,
     "metadata": {},
     "output_type": "execute_result"
    }
   ],
   "source": [
    "len(master_4)"
   ]
  },
  {
   "cell_type": "code",
   "execution_count": 49,
   "metadata": {},
   "outputs": [],
   "source": [
    "df_archive_6 = pd.DataFrame(master_6)\n",
    "df_archive_6.columns = ['link']\n",
    "df_archive_6.to_csv(\"master_unique_6.csv\")"
   ]
  },
  {
   "cell_type": "code",
   "execution_count": 41,
   "metadata": {},
   "outputs": [],
   "source": [
    "df_archive_5 = pd.DataFrame(master_5)\n",
    "df_archive_5.columns = ['link']\n",
    "df_archive_5.to_csv(\"master_unique_5.csv\")"
   ]
  },
  {
   "cell_type": "code",
   "execution_count": 32,
   "metadata": {},
   "outputs": [],
   "source": [
    "df_archive_4 = pd.DataFrame(master_4)\n",
    "df_archive_4.columns = ['link']\n",
    "df_archive_4.to_csv(\"master_unique_4.csv\")"
   ]
  },
  {
   "cell_type": "code",
   "execution_count": 26,
   "metadata": {},
   "outputs": [],
   "source": [
    "df_archive_3 = pd.DataFrame(master_urls_3)\n",
    "df_archive_3.columns = ['link']\n",
    "df_archive_3.to_csv(\"master_unique_3.csv\")"
   ]
  },
  {
   "cell_type": "code",
   "execution_count": 14,
   "metadata": {},
   "outputs": [],
   "source": [
    "df_archive_2 = pd.DataFrame(master_urls_2)\n",
    "df_archive_2.columns = ['link']\n",
    "df_archive_2.to_csv(\"master_unique_2.csv\")"
   ]
  },
  {
   "cell_type": "code",
   "execution_count": 277,
   "metadata": {},
   "outputs": [],
   "source": [
    "archive = pd.read_csv(\"internetarchive_forbs.csv\")\n",
    "archive.columns = ['link']"
   ]
  },
  {
   "cell_type": "code",
   "execution_count": 278,
   "metadata": {},
   "outputs": [],
   "source": [
    "df_href_2020 = pd.DataFrame(master_urls)\n",
    "df_href_2020.columns = ['link']"
   ]
  },
  {
   "cell_type": "code",
   "execution_count": 267,
   "metadata": {},
   "outputs": [],
   "source": [
    "arc_df.to_csv(\"master_unique.csv\")"
   ]
  },
  {
   "cell_type": "code",
   "execution_count": null,
   "metadata": {},
   "outputs": [],
   "source": [
    "arc_df_2.to_csv\"master_unique_3.csv\""
   ]
  }
 ],
 "metadata": {
  "kernelspec": {
   "display_name": "Python 3",
   "language": "python",
   "name": "python3"
  },
  "language_info": {
   "codemirror_mode": {
    "name": "ipython",
    "version": 3
   },
   "file_extension": ".py",
   "mimetype": "text/x-python",
   "name": "python",
   "nbconvert_exporter": "python",
   "pygments_lexer": "ipython3",
   "version": "3.7.4"
  }
 },
 "nbformat": 4,
 "nbformat_minor": 2
}
