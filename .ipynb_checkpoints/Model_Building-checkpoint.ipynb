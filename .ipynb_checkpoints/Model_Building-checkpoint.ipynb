{
 "cells": [
  {
   "cell_type": "markdown",
   "metadata": {},
   "source": [
    "### Final Project: Online News Popularity Prediction\n",
    "\n",
    "Team members: Alice Hua - Haley Farber - Derrick Xiong <br>\n",
    "Class: W207-Applied Machine Learning <br>\n",
    "\n",
    "\n",
    "Citations: <br>\n",
    " - UCI Machine Learning Repo: https://www.arcgis.com/apps/opsdashboard/index.html#/bda7594740fd40299423467b48e9ecf6 \n",
    " - Mobility data: https://www.google.com/covid19/mobility/data_documentation.html\n",
    " - Demographics data: https://www.un.org/en/development/desa/population/publications/database/index.asp"
   ]
  },
  {
   "cell_type": "markdown",
   "metadata": {},
   "source": [
    "### Step 1: Import packages"
   ]
  },
  {
   "cell_type": "code",
   "execution_count": 18,
   "metadata": {},
   "outputs": [],
   "source": [
    "import pandas as pd\n",
    "import numpy as np\n",
    "import pandas_profiling\n",
    "import seaborn as sns\n",
    "\n",
    "# exploratory analysis\n",
    "import matplotlib.pyplot as plt\n",
    "import mlxtend  #(pip install mlxtend)\n",
    "from mlxtend.plotting import scatterplotmatrix\n",
    "from mlxtend.plotting import heatmap\n",
    "import seaborn as sns\n",
    "\n",
    "# data preprocessing\n",
    "from sklearn import preprocessing\n",
    "\n",
    "# model fit\n",
    "import statsmodels.api as sm"
   ]
  },
  {
   "cell_type": "markdown",
   "metadata": {},
   "source": [
    "### Step 2: Define working directories"
   ]
  },
  {
   "cell_type": "code",
   "execution_count": 3,
   "metadata": {},
   "outputs": [],
   "source": [
    "in_dir = 'C:/Users/alice/OneDrive/Schools/Berkeley/Cal_Fall_2020_grad/W207/w207-fall-2020-project-final-alicehua11/W207_ML_finalproject'\n",
    "out_dir = 'C:/Users/aliceOneDrive/Schools/Berkeley/Cal_Fall_2020_grad/W207/w207-fall-2020-project-final-alicehua11/W207_ML_finalproject'"
   ]
  },
  {
   "cell_type": "code",
   "execution_count": 4,
   "metadata": {},
   "outputs": [],
   "source": [
    "a = [4,6,7]"
   ]
  },
  {
   "cell_type": "code",
   "execution_count": 8,
   "metadata": {},
   "outputs": [
    {
     "data": {
      "text/plain": [
       "[6, 7]"
      ]
     },
     "execution_count": 8,
     "metadata": {},
     "output_type": "execute_result"
    }
   ],
   "source": [
    "a[-2:]"
   ]
  },
  {
   "cell_type": "code",
   "execution_count": 30,
   "metadata": {},
   "outputs": [
    {
     "data": {
      "text/html": [
       "<div>\n",
       "<style scoped>\n",
       "    .dataframe tbody tr th:only-of-type {\n",
       "        vertical-align: middle;\n",
       "    }\n",
       "\n",
       "    .dataframe tbody tr th {\n",
       "        vertical-align: top;\n",
       "    }\n",
       "\n",
       "    .dataframe thead th {\n",
       "        text-align: right;\n",
       "    }\n",
       "</style>\n",
       "<table border=\"1\" class=\"dataframe\">\n",
       "  <thead>\n",
       "    <tr style=\"text-align: right;\">\n",
       "      <th></th>\n",
       "      <th>link</th>\n",
       "      <th>title</th>\n",
       "      <th>text</th>\n",
       "      <th>view</th>\n",
       "      <th>Business</th>\n",
       "      <th>Innovation</th>\n",
       "      <th>Leadership</th>\n",
       "      <th>Lifestyle</th>\n",
       "      <th>Money</th>\n",
       "      <th>Apr</th>\n",
       "      <th>...</th>\n",
       "      <th>kw_min_min</th>\n",
       "      <th>kw_min_max</th>\n",
       "      <th>kw_min_avg</th>\n",
       "      <th>kw_max_min</th>\n",
       "      <th>kw_max_max</th>\n",
       "      <th>kw_max_avg</th>\n",
       "      <th>kw_avg_min</th>\n",
       "      <th>kw_avg_max</th>\n",
       "      <th>kw_avg_avg</th>\n",
       "      <th>num_keywords</th>\n",
       "    </tr>\n",
       "  </thead>\n",
       "  <tbody>\n",
       "    <tr>\n",
       "      <th>0</th>\n",
       "      <td>https://www.forbes.com/sites/billybambrough/20...</td>\n",
       "      <td>$50 Billion Crash—What Next For Bitcoin, Ether...</td>\n",
       "      <td>Bitcoin, ethereum, Ripple\\s XRP, bitcoin cash,...</td>\n",
       "      <td>47,503</td>\n",
       "      <td>0</td>\n",
       "      <td>0</td>\n",
       "      <td>0</td>\n",
       "      <td>0</td>\n",
       "      <td>1</td>\n",
       "      <td>0</td>\n",
       "      <td>...</td>\n",
       "      <td>33</td>\n",
       "      <td>47503</td>\n",
       "      <td>6488.307692</td>\n",
       "      <td>33</td>\n",
       "      <td>11524072</td>\n",
       "      <td>1.054754e+06</td>\n",
       "      <td>42</td>\n",
       "      <td>237612</td>\n",
       "      <td>31919.200000</td>\n",
       "      <td>316</td>\n",
       "    </tr>\n",
       "    <tr>\n",
       "      <th>1</th>\n",
       "      <td>https://www.forbes.com/sites/abigailabesamis/2...</td>\n",
       "      <td>12 Bakers Share What They’re Whipping Up Durin...</td>\n",
       "      <td>Sourdough loaves (plus creative uses for disca...</td>\n",
       "      <td>2,826</td>\n",
       "      <td>0</td>\n",
       "      <td>0</td>\n",
       "      <td>0</td>\n",
       "      <td>1</td>\n",
       "      <td>0</td>\n",
       "      <td>0</td>\n",
       "      <td>...</td>\n",
       "      <td>60</td>\n",
       "      <td>2826</td>\n",
       "      <td>964.800000</td>\n",
       "      <td>30</td>\n",
       "      <td>12490200</td>\n",
       "      <td>2.410277e+05</td>\n",
       "      <td>2826</td>\n",
       "      <td>7753</td>\n",
       "      <td>5289.500000</td>\n",
       "      <td>1069</td>\n",
       "    </tr>\n",
       "    <tr>\n",
       "      <th>2</th>\n",
       "      <td>https://www.forbes.com/sites/abigailabesamis/2...</td>\n",
       "      <td>15 Chefs Share What They’re Cooking During The...</td>\n",
       "      <td>In addition to offering delivery and curbside ...</td>\n",
       "      <td>4,064</td>\n",
       "      <td>0</td>\n",
       "      <td>0</td>\n",
       "      <td>0</td>\n",
       "      <td>1</td>\n",
       "      <td>0</td>\n",
       "      <td>1</td>\n",
       "      <td>...</td>\n",
       "      <td>137</td>\n",
       "      <td>4064</td>\n",
       "      <td>1256.714286</td>\n",
       "      <td>84</td>\n",
       "      <td>8418600</td>\n",
       "      <td>1.962197e+05</td>\n",
       "      <td>72</td>\n",
       "      <td>72934</td>\n",
       "      <td>7639.500000</td>\n",
       "      <td>1137</td>\n",
       "    </tr>\n",
       "    <tr>\n",
       "      <th>3</th>\n",
       "      <td>https://www.forbes.com/sites/abigailabesamis/2...</td>\n",
       "      <td>16 Bartenders Share What They’re Drinking Duri...</td>\n",
       "      <td>Classic cocktails with just a few ingredients,...</td>\n",
       "      <td>2,437</td>\n",
       "      <td>0</td>\n",
       "      <td>0</td>\n",
       "      <td>0</td>\n",
       "      <td>1</td>\n",
       "      <td>0</td>\n",
       "      <td>1</td>\n",
       "      <td>...</td>\n",
       "      <td>50</td>\n",
       "      <td>2437</td>\n",
       "      <td>891.000000</td>\n",
       "      <td>310</td>\n",
       "      <td>689138</td>\n",
       "      <td>1.467900e+05</td>\n",
       "      <td>266</td>\n",
       "      <td>14637</td>\n",
       "      <td>4823.428571</td>\n",
       "      <td>1363</td>\n",
       "    </tr>\n",
       "    <tr>\n",
       "      <th>4</th>\n",
       "      <td>https://www.forbes.com/sites/kyleedward/2020/1...</td>\n",
       "      <td>2021 Genesis GV80 First Drive: The Flagship SU...</td>\n",
       "      <td>Hyundai\\s luxury brand Genesis has had a stron...</td>\n",
       "      <td>4,264</td>\n",
       "      <td>0</td>\n",
       "      <td>0</td>\n",
       "      <td>0</td>\n",
       "      <td>1</td>\n",
       "      <td>0</td>\n",
       "      <td>0</td>\n",
       "      <td>...</td>\n",
       "      <td>738</td>\n",
       "      <td>4264</td>\n",
       "      <td>1983.333333</td>\n",
       "      <td>30</td>\n",
       "      <td>12490200</td>\n",
       "      <td>1.234535e+05</td>\n",
       "      <td>532</td>\n",
       "      <td>26386</td>\n",
       "      <td>8616.900000</td>\n",
       "      <td>455</td>\n",
       "    </tr>\n",
       "  </tbody>\n",
       "</table>\n",
       "<p>5 rows × 68 columns</p>\n",
       "</div>"
      ],
      "text/plain": [
       "                                                link  \\\n",
       "0  https://www.forbes.com/sites/billybambrough/20...   \n",
       "1  https://www.forbes.com/sites/abigailabesamis/2...   \n",
       "2  https://www.forbes.com/sites/abigailabesamis/2...   \n",
       "3  https://www.forbes.com/sites/abigailabesamis/2...   \n",
       "4  https://www.forbes.com/sites/kyleedward/2020/1...   \n",
       "\n",
       "                                               title  \\\n",
       "0  $50 Billion Crash—What Next For Bitcoin, Ether...   \n",
       "1  12 Bakers Share What They’re Whipping Up Durin...   \n",
       "2  15 Chefs Share What They’re Cooking During The...   \n",
       "3  16 Bartenders Share What They’re Drinking Duri...   \n",
       "4  2021 Genesis GV80 First Drive: The Flagship SU...   \n",
       "\n",
       "                                                text    view  Business  \\\n",
       "0  Bitcoin, ethereum, Ripple\\s XRP, bitcoin cash,...  47,503         0   \n",
       "1  Sourdough loaves (plus creative uses for disca...   2,826         0   \n",
       "2  In addition to offering delivery and curbside ...   4,064         0   \n",
       "3  Classic cocktails with just a few ingredients,...   2,437         0   \n",
       "4  Hyundai\\s luxury brand Genesis has had a stron...   4,264         0   \n",
       "\n",
       "   Innovation  Leadership  Lifestyle  Money  Apr  ...  kw_min_min  kw_min_max  \\\n",
       "0           0           0          0      1    0  ...          33       47503   \n",
       "1           0           0          1      0    0  ...          60        2826   \n",
       "2           0           0          1      0    1  ...         137        4064   \n",
       "3           0           0          1      0    1  ...          50        2437   \n",
       "4           0           0          1      0    0  ...         738        4264   \n",
       "\n",
       "    kw_min_avg  kw_max_min  kw_max_max    kw_max_avg  kw_avg_min  kw_avg_max  \\\n",
       "0  6488.307692          33    11524072  1.054754e+06          42      237612   \n",
       "1   964.800000          30    12490200  2.410277e+05        2826        7753   \n",
       "2  1256.714286          84     8418600  1.962197e+05          72       72934   \n",
       "3   891.000000         310      689138  1.467900e+05         266       14637   \n",
       "4  1983.333333          30    12490200  1.234535e+05         532       26386   \n",
       "\n",
       "     kw_avg_avg  num_keywords  \n",
       "0  31919.200000           316  \n",
       "1   5289.500000          1069  \n",
       "2   7639.500000          1137  \n",
       "3   4823.428571          1363  \n",
       "4   8616.900000           455  \n",
       "\n",
       "[5 rows x 68 columns]"
      ]
     },
     "execution_count": 30,
     "metadata": {},
     "output_type": "execute_result"
    }
   ],
   "source": [
    "df = pd.read_csv(\"Draft_Features.csv\", index_col=0)\n",
    "df = df.reset_index().sort_index()\n",
    "df.head()\n",
    "# df = df.drop(['index'], axis=1)"
   ]
  },
  {
   "cell_type": "code",
   "execution_count": 31,
   "metadata": {},
   "outputs": [
    {
     "data": {
      "text/plain": [
       "Index(['link', 'title', 'text', 'view', 'Business', 'Innovation', 'Leadership',\n",
       "       'Lifestyle', 'Money', 'Apr', 'Aug', 'Dec', 'Feb', 'Jan', 'Jul', 'Jun',\n",
       "       'Mar', 'May', 'Nov', 'Oct', 'Sep', 'n_tokens_title:',\n",
       "       'n_tokens_content', 'n_unique_tokens', 'average_token_length',\n",
       "       'n_non_stop_words', 'n_non_stop_unique_tokens', 'friday', 'monday',\n",
       "       'saturday', 'sunday', 'thursday', 'tuesday', 'wednesday', 'weekday',\n",
       "       'weekend', 'global_sentiment_polarity', 'global_subjectivity',\n",
       "       'title_sentiment_polarity', 'abs_title_sentiment_polarity',\n",
       "       'title_subjectivity', 'abs_title_subjectivity',\n",
       "       'global_rate_positive_words', 'global_rate_negative_words',\n",
       "       'rate_positive_words', 'rate_negative_words', 'avg_positive_polarity',\n",
       "       'min_positive_polarity', 'max_positive_polarity',\n",
       "       'avg_negative_polarity', 'min_negative_polarity',\n",
       "       'max_negative_polarity', 'LDA_00', 'LDA_01', 'LDA_02', 'LDA_03',\n",
       "       'LDA_04', 'timedelta', 'kw_min_min', 'kw_min_max', 'kw_min_avg',\n",
       "       'kw_max_min', 'kw_max_max', 'kw_max_avg', 'kw_avg_min', 'kw_avg_max',\n",
       "       'kw_avg_avg', 'num_keywords'],\n",
       "      dtype='object')"
      ]
     },
     "execution_count": 31,
     "metadata": {},
     "output_type": "execute_result"
    }
   ],
   "source": [
    "df.columns"
   ]
  },
  {
   "cell_type": "code",
   "execution_count": null,
   "metadata": {},
   "outputs": [
    {
     "name": "stderr",
     "output_type": "stream",
     "text": [
      "Summarize dataset:  88%|████████████████████████████    | 72/82 [00:01<00:00, 51.73it/s, Calculate kendall correlation]"
     ]
    }
   ],
   "source": [
    "df.replace('', np.nan, inplace=True)\n",
    "\n",
    "# select features for summary stats\n",
    "profile = pandas_profiling.ProfileReport(df[['link', 'title', 'text', 'view', 'Business', 'Innovation', 'Leadership',\n",
    "       'Lifestyle', 'Money', 'Apr', 'Aug', 'Dec', 'Feb', 'Jan', 'Jul', 'Jun',\n",
    "       'Mar', 'May', 'Nov', 'Oct', 'Sep', 'n_tokens_title:',\n",
    "       'n_tokens_content', 'n_unique_tokens', 'average_token_length',\n",
    "       'n_non_stop_words', 'n_non_stop_unique_tokens', 'friday', 'monday',\n",
    "       'saturday', 'sunday', 'thursday', 'tuesday', 'wednesday', 'weekday',\n",
    "       'weekend', 'global_sentiment_polarity', 'global_subjectivity',\n",
    "       'title_sentiment_polarity', 'abs_title_sentiment_polarity',\n",
    "       'title_subjectivity', 'abs_title_subjectivity',\n",
    "       'global_rate_positive_words', 'global_rate_negative_words',\n",
    "       'rate_positive_words', 'rate_negative_words', 'avg_positive_polarity',\n",
    "       'min_positive_polarity', 'max_positive_polarity',\n",
    "       'avg_negative_polarity', 'min_negative_polarity',\n",
    "       'max_negative_polarity', 'LDA_00', 'LDA_01', 'LDA_02', 'LDA_03',\n",
    "       'LDA_04', 'timedelta', 'kw_min_min', 'kw_min_max', 'kw_min_avg',\n",
    "       'kw_max_min', 'kw_max_max', 'kw_max_avg', 'kw_avg_min', 'kw_avg_max',\n",
    "       'kw_avg_avg', 'num_keywords']]) \n",
    "profile.to_notebook_iframe()"
   ]
  },
  {
   "cell_type": "code",
   "execution_count": null,
   "metadata": {},
   "outputs": [],
   "source": []
  }
 ],
 "metadata": {
  "kernelspec": {
   "display_name": "Python 3.7.6 64-bit ('base': conda)",
   "language": "python",
   "name": "python37664bitbaseconda4c633f59a46f40f2b95e5029fe3d1c66"
  },
  "language_info": {
   "codemirror_mode": {
    "name": "ipython",
    "version": 3
   },
   "file_extension": ".py",
   "mimetype": "text/x-python",
   "name": "python",
   "nbconvert_exporter": "python",
   "pygments_lexer": "ipython3",
   "version": "3.7.6"
  }
 },
 "nbformat": 4,
 "nbformat_minor": 4
}
